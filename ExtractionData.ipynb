{
 "cells": [
  {
   "cell_type": "markdown",
   "metadata": {},
   "source": [
    "# Importação de bibliotecas"
   ]
  },
  {
   "cell_type": "code",
   "execution_count": null,
   "metadata": {},
   "outputs": [],
   "source": [
    "from copy import deepcopy\n",
    "import os\n",
    "import pickle\n",
    "import sys\n",
    "from tqdm import tqdm\n",
    "import numpy as np\n",
    "import scipy.io as io\n",
    "import pandas as pd\n",
    "import seaborn as sns\n",
    "import matplotlib.pyplot as plt\n",
    "\n",
    "from sklearn.model_selection import train_test_split\n",
    "from sklearn.utils import shuffle, resample\n"
   ]
  },
  {
   "cell_type": "code",
   "execution_count": null,
   "metadata": {},
   "outputs": [],
   "source": [
    "from pump_utils import process, plots, models"
   ]
  },
  {
   "cell_type": "markdown",
   "metadata": {},
   "source": [
    "# Manipulação dos dados"
   ]
  },
  {
   "cell_type": "markdown",
   "metadata": {},
   "source": [
    "## Abrindo o diretório\n"
   ]
  },
  {
   "cell_type": "code",
   "execution_count": null,
   "metadata": {},
   "outputs": [],
   "source": [
    "path='F:\\FACUL\\FACULDADE\\PG1\\Dados'\n",
    "os.listdir(path)\n",
    "Df_v1 = pd.read_csv(f'{path}\\\\sensor.csv')"
   ]
  },
  {
   "cell_type": "markdown",
   "metadata": {},
   "source": [
    "## Obtendo o Dataframe"
   ]
  },
  {
   "cell_type": "code",
   "execution_count": null,
   "metadata": {},
   "outputs": [],
   "source": [
    "Df_v2 = Df_v1.drop(columns='Unnamed: 0') #Coluna repete index\n",
    "# Cols=Df_v2.columns"
   ]
  },
  {
   "cell_type": "code",
   "execution_count": null,
   "metadata": {},
   "outputs": [],
   "source": [
    "Df_v2"
   ]
  },
  {
   "cell_type": "code",
   "execution_count": null,
   "metadata": {},
   "outputs": [],
   "source": []
  },
  {
   "cell_type": "code",
   "execution_count": null,
   "metadata": {},
   "outputs": [],
   "source": [
    "Df_v3=Df_v2\n",
    "\n",
    "\n",
    "# Df_v2[Cols[3]].loc[Df_v2[Cols[3]].isnull()]\n",
    "\n",
    "# for Title in Cols:\n",
    "    # for Value in range(len(Df_v2[Title])):\n",
    "    #     if Df_v2[Title][Value] == 'NaN' :\n",
    "    #         Df_v2[Title][Value].interpolate(method ='linear', limit_direction ='forward')\n",
    "    \n",
    "    # if Df_v2[Title].isnull().sum() > 0 :\n",
    "    #    ContNull = Df_v2[Title].isnull().sum()\n",
    "    #     for id in range(ContNull):\n",
    "    #         Df_v2[Title].loc[Df_v2[Title].isnull()]"
   ]
  },
  {
   "cell_type": "code",
   "execution_count": null,
   "metadata": {},
   "outputs": [],
   "source": [
    "# Df_v2[Cols[1]].loc[Df_v2[Cols[1]].isnull()]\n",
    "# Df_v2[Cols[1]].iloc[17157]\n",
    "\n",
    "plt.plot(Df_v3['sensor_13'][:100])\n"
   ]
  },
  {
   "cell_type": "code",
   "execution_count": null,
   "metadata": {},
   "outputs": [],
   "source": [
    "sns.heatmap(Df_v3.isnull(),cbar=False,cmap='viridis')"
   ]
  },
  {
   "cell_type": "code",
   "execution_count": null,
   "metadata": {},
   "outputs": [],
   "source": [
    "fig, ax = plt.subplots(figsize=(8,8))\n",
    "sns.countplot(data=Df_v3, x='machine_status', ax=ax)"
   ]
  },
  {
   "cell_type": "code",
   "execution_count": null,
   "metadata": {},
   "outputs": [],
   "source": [
    "# mudança no formato da coluna \"timestamp\"\n",
    "Df_v3['timestamp'] = Df_v3['timestamp'].astype('datetime64')\n",
    "\n",
    "# visualização temporal dos dados\n",
    "plots.sensor_plot(Df_v3, sensors=[f'sensor_{i}' for i in ['00','02', '10', '18']])\n",
    "\n",
    "# "
   ]
  },
  {
   "cell_type": "code",
   "execution_count": null,
   "metadata": {},
   "outputs": [],
   "source": [
    "Df_v3['b_machine_status'] = Df_v3['machine_status'].apply(lambda x: x if x == 'NORMAL' else 'ANOMALY')"
   ]
  },
  {
   "cell_type": "code",
   "execution_count": null,
   "metadata": {},
   "outputs": [],
   "source": [
    "# verificação das distribuições dos sensores\n",
    "plots.dist_plot(Df_v3, sensors=[f'sensor_{i}' for i in ['00', '02', '05', '27']])"
   ]
  },
  {
   "cell_type": "code",
   "execution_count": null,
   "metadata": {},
   "outputs": [],
   "source": [
    "plots.boxplot(Df_v3, sensors=[f'sensor_{i}' for i in ['00', '02', '05', '27']])"
   ]
  },
  {
   "cell_type": "code",
   "execution_count": null,
   "metadata": {},
   "outputs": [],
   "source": [
    "# Df_v3.plot(subplots =True, sharex = True, figsize = (20,50))"
   ]
  },
  {
   "cell_type": "code",
   "execution_count": null,
   "metadata": {},
   "outputs": [],
   "source": [
    "plots.corr_plot(Df_v3, th=.7)"
   ]
  },
  {
   "cell_type": "markdown",
   "metadata": {},
   "source": [
    "Com a correlação feita acima, é possível selecionar os sensores que possuem uma correlação acima de 70% e ignorar os restantes.\n",
    "Os sensores são: ['00','01','02','04','05','06','07','08','09','10','11','12','13','38','39','40','41','44','46','48','49','50']"
   ]
  },
  {
   "cell_type": "code",
   "execution_count": null,
   "metadata": {},
   "outputs": [],
   "source": [
    "# verificação da correlação multivariada\n",
    "plots.mvar_corr(Df_v3, th=.75)"
   ]
  },
  {
   "cell_type": "markdown",
   "metadata": {},
   "source": [
    "Com a correlação das importâncias realizada acima, é possível filtrar novamente as melhores variáveis para o problema.\n",
    "Os sensores são: ['00', '01', '03,'04','05','06','09','10','11','13','14','19','22','26','28','29','34','36','48','51']"
   ]
  },
  {
   "cell_type": "code",
   "execution_count": null,
   "metadata": {},
   "outputs": [],
   "source": [
    "# verificação das variáveis redundantes\n",
    "num_sensors = ['00', '01', '02', '03', '04', '05', '06', '07', '08', '10', '11', '12', '13', '38', '40', '45', '48', '49', '50','51']\n",
    "selected_sensors = [f'sensor_{i}' for i in num_sensors]\n",
    "plots.redundant_features(Df_v3, sensors=selected_sensors)"
   ]
  },
  {
   "cell_type": "code",
   "execution_count": null,
   "metadata": {},
   "outputs": [],
   "source": [
    "null_list = Df_v3.isnull().sum()\n",
    "(null_list[null_list != 0] / Df_v3.shape[0])*100"
   ]
  },
  {
   "cell_type": "code",
   "execution_count": null,
   "metadata": {},
   "outputs": [],
   "source": [
    "# exclusão dos sensores 0, 15 e 50\n",
    "pdata = Df_v3[selected_sensors].copy()\n",
    "pdata['b_machine_status'] = Df_v3['b_machine_status'].copy()\n",
    "pdata.drop(columns=['sensor_00', 'sensor_50'], inplace=True)\n",
    "\n",
    "# interpolação dos demais sensores\n",
    "pdata.interpolate(axis=0, inplace=True)"
   ]
  },
  {
   "cell_type": "code",
   "execution_count": null,
   "metadata": {},
   "outputs": [],
   "source": [
    "Df_v3['timestamp']"
   ]
  },
  {
   "cell_type": "code",
   "execution_count": null,
   "metadata": {},
   "outputs": [],
   "source": [
    "# Df_v4=Df_v3\n",
    "# for i in range(16,26):\n",
    "#     Df_v4=Df_v4.drop(columns=f'sensor_{i}') \n",
    "# for i in range(38,41):\n",
    "#     Df_v4=Df_v4.drop(columns=f'sensor_{i}')\n",
    "# for i in range(46,49):\n",
    "#     Df_v4=Df_v4.drop(columns=f'sensor_{i}')\n"
   ]
  },
  {
   "cell_type": "code",
   "execution_count": null,
   "metadata": {},
   "outputs": [],
   "source": [
    "Cols=Df_v3.columns\n",
    "# Df_v3['sensor_00'][0:10].mean()\n",
    "x=0\n",
    "# for n in Cols:\n",
    "#     size = len(Df_v3[n])\n",
    "#     for m in range(9,size,10):\n",
    "#         test[n] = Df_v3[n][x:m].mean()\n",
    "#         x=x+m"
   ]
  },
  {
   "cell_type": "code",
   "execution_count": null,
   "metadata": {},
   "outputs": [],
   "source": [
    "# Df_v4.plot(subplots =True, sharex = True, figsize = (20,50))"
   ]
  },
  {
   "cell_type": "code",
   "execution_count": null,
   "metadata": {},
   "outputs": [],
   "source": [
    "# for m in range(len(Df_v3['machine_status'])):\n",
    "#     if Df_v3['machine_status'][m] == 'NORMAL':\n",
    "#         Df_v3 = 0\n",
    "#     if Df_v3['machine_status'][m] == 'BROKEN':\n",
    "#         Df_v3 = 1\n",
    "#     if Df_v3['machine_status'][m] == 'RECOVERING':\n",
    "#         Df_v3 = 2\n",
    "    \n"
   ]
  },
  {
   "cell_type": "code",
   "execution_count": null,
   "metadata": {},
   "outputs": [],
   "source": [
    "Df_v3"
   ]
  },
  {
   "cell_type": "code",
   "execution_count": null,
   "metadata": {},
   "outputs": [],
   "source": [
    "# Cols=Df_v3.columns\n",
    "# # Df_v3['sensor_00'][0:10].mean()\n",
    "# test={}\n",
    "# x=0\n",
    "# cont=0\n",
    "# for n in Cols:\n",
    "#     if n == 'timestamp':\n",
    "#         pass\n",
    "#     else:\n",
    "#         size = len(Df_v3[n])\n",
    "#         for m in range(9,size,10):\n",
    "#             test[cont] = {f'{n}',Df_v3[n][x:m].mean()}\n",
    "#             cont=cont+1\n",
    "#             x=m+1"
   ]
  },
  {
   "cell_type": "code",
   "execution_count": null,
   "metadata": {},
   "outputs": [],
   "source": [
    "# test\n",
    "Cols\n",
    "# x\n",
    "# n == 'timestamp'"
   ]
  },
  {
   "cell_type": "markdown",
   "metadata": {},
   "source": [
    "## Transformando em .Parquet"
   ]
  },
  {
   "cell_type": "code",
   "execution_count": null,
   "metadata": {},
   "outputs": [],
   "source": [
    "# os.makedirs('accel_data/', exist_ok=True)\n",
    "\n",
    "# prefix = path.split('/')[-1] #Prefixo do nome a ser salvo no arquivo. EX. \"LRV4306_acc.parquet\"\n",
    "Df_v3.to_parquet('F:\\FACUL\\FACULDADE\\PG1\\Dados\\Dados_Pump.parquet', index=False)"
   ]
  },
  {
   "cell_type": "markdown",
   "metadata": {},
   "source": [
    "## Separando os sensores"
   ]
  },
  {
   "cell_type": "code",
   "execution_count": null,
   "metadata": {},
   "outputs": [],
   "source": [
    "Df_bearingTemp=pd.DataFrame()\n",
    "Df_vibration=pd.DataFrame()\n",
    "Df_motorProprieties=pd.DataFrame()\n",
    "Df_pumpSpeed=pd.DataFrame()\n",
    "Df_pumpFlow=pd.DataFrame()\n",
    "Df_pumpLube=pd.DataFrame()\n",
    "Df_pumpPressure=pd.DataFrame()\n"
   ]
  },
  {
   "cell_type": "code",
   "execution_count": null,
   "metadata": {},
   "outputs": [],
   "source": [
    "# Df_v2.unique()\n",
    "k=0\n",
    "# Df_v2.loc[Df_v2['sensor_00']]\n",
    "# Df_v2.isna().describe()\n",
    "Df_final = pd.read_parquet(path+r'\\Dados_Pump.parquet')\n",
    "for column in tqdm(Cols):\n",
    "    if column == 'timestamp' or column == 'machine_status':\n",
    "        pass\n",
    "    else:\n",
    "        name_var = column.split('_')\n",
    "        name_var = name_var[1]\n",
    "        # try:\n",
    "        if name_var >= '01' and name_var <= '12' or name_var >= '14' and name_var <= '17':\n",
    "            Df_motorProprieties[f'sensor_{name_var}'] = Df_final[f'sensor_{name_var}']\n",
    "\n",
    "        if name_var == '00' or name_var == '13' or name_var == '18':\n",
    "            Df_vibration[f'sensor_{name_var}'] = Df_final[f'sensor_{name_var}']\n",
    "\n",
    "        if name_var >= '19' and name_var <= '33':\n",
    "            Df_pumpSpeed[f'sensor_{name_var}'] = Df_final[f'sensor_{name_var}']\n",
    "\n",
    "        if name_var >= '34' and name_var <= '36':\n",
    "            Df_pumpFlow[f'sensor_{name_var}'] = Df_final[f'sensor_{name_var}']\n",
    "\n",
    "        if name_var >= '37' and name_var <= '39':\n",
    "            Df_pumpLube[f'sensor_{name_var}'] = Df_final[f'sensor_{name_var}']\n",
    "\n",
    "        if name_var >= '40' and name_var <= '47':\n",
    "            Df_bearingTemp[f'sensor_{name_var}'] = Df_final[f'sensor_{name_var}']\n",
    "\n",
    "        if name_var >= '48' and name_var <= '51':\n",
    "            Df_pumpPressure[f'sensor_{name_var}'] = Df_final[f'sensor_{name_var}']"
   ]
  },
  {
   "cell_type": "code",
   "execution_count": null,
   "metadata": {},
   "outputs": [],
   "source": [
    "\n",
    "Df_motorProprieties.rename({'sensor_01':'Motor Frequency A','sensor_02':'Motor Frequency B','sensor_03':'Motor Frequency C',\n",
    "'sensor_04':'Motor Speed','sensor_05':'Motor Current','sensor_06':'Motor Active Power','sensor_07':'Motor Apparent Power','sensor_08':'Motor Reactive Power',\n",
    "'sensor_09':'Motor Shaft Power','sensor_10':'Motor Phase Current A','sensor_11':'Motor Phase Current B','sensor_12':'Motor Phase Current C','sensor_14':'Motor Phase Voltage AB',\n",
    "'sensor_16':'Motor Phase Voltage BC','sensor_17':'Motor Phase Voltage CA'},axis=1,inplace=True)\n",
    "\n",
    "Df_motorProprieties.head()\n",
    "\n",
    "# SENSOR_01 - Motor Frequency A\n",
    "# SENSOR_02 - Motor Frequency B\n",
    "# SENSOR_03 - Motor Frequency C\n",
    "# SENSOR_04 - Motor Speed\n",
    "# SENSOR_05 - Motor Current\n",
    "# SENSOR_06 - Motor Active Power\n",
    "# SENSOR_07 - Motor Apparent Power\n",
    "# SENSOR_08 - Motor Reactive Power\n",
    "# SENSOR_09 - Motor Shaft Power  \n",
    "# SENSOR_10 - Motor Phase Current A\n",
    "# SENSOR_11 - Motor Phase Current B\n",
    "# SENSOR_12 - Motor Phase Current C\n",
    "# SENSOR_14 - Motor Phase Voltage AB\n",
    "# SENSOR_16 - Motor Phase Voltage BC\n",
    "# SENSOR_17 - Motor Phase Voltage CA"
   ]
  },
  {
   "cell_type": "code",
   "execution_count": null,
   "metadata": {},
   "outputs": [],
   "source": [
    "Df_vibration.rename({'sensor_00': 'Motor Casing Vibration', 'sensor_13':'Motor Coupling Vibration', 'sensor_18':'Pump Casing Vibration'},axis=1,inplace=True)\n",
    "\n",
    "Df_vibration\n",
    "\n",
    "# SENSOR_00 - Motor Casing Vibration\n",
    "# SENSOR_13 - Motor Coupling Vibration\n",
    "# SENSOR_18 - Pump Casing Vibration"
   ]
  },
  {
   "cell_type": "code",
   "execution_count": null,
   "metadata": {},
   "outputs": [],
   "source": [
    "Df_pumpSpeed.rename({'sensor_19': 'Pump Stage 1 Impeller Speed', 'sensor_20':'Pump Stage 1 Impeller Speed', 'sensor_21':'Pump Stage 1 Impeller Speed', 'sensor_22':'Pump Stage 1 Impeller Speed',\n",
    "'sensor_23':'Pump Stage 1 Impeller Speed', 'sensor_24':'Pump Stage 1 Impeller Speed', 'sensor_25':'Pump Stage 2 Impeller Speed', 'sensor_26':'Pump Stage 2 Impeller Speed', \n",
    "'sensor_27':'Pump Stage 2 Impeller Speed', 'sensor_28':'Pump Stage 2 Impeller Speed', 'sensor_29':'Pump Stage 2 Impeller Speed', 'sensor_30':'Pump Stage 2 Impeller Speed',\n",
    "'sensor_31':'Pump Stage 2 Impeller Speed', 'sensor_32':'Pump Stage 2 Impeller Speed', 'sensor_33':'Pump Stage 2 Impeller Speed'},axis=1,inplace=True)\n",
    "\n",
    "Df_pumpSpeed.head()\n",
    "\n",
    "# SENSOR_19 - Pump Stage 1 Impeller Speed\n",
    "# SENSOR_20 - Pump Stage 1 Impeller Speed\n",
    "# SENSOR_21 - Pump Stage 1 Impeller Speed\n",
    "# SENSOR_22 - Pump Stage 1 Impeller Speed\n",
    "# SENSOR_23 - Pump Stage 1 Impeller Speed\n",
    "# SENSOR_24 - Pump Stage 1 Impeller Speed\n",
    "# SENSOR_25 - Pump Stage 2 Impeller Speed\n",
    "# SENSOR_26 - Pump Stage 2 Impeller Speed\n",
    "# SENSOR_27 - Pump Stage 2 Impeller Speed\n",
    "# SENSOR_28 - Pump Stage 2 Impeller Speed\n",
    "# SENSOR_29 - Pump Stage 2 Impeller Speed\n",
    "# SENSOR_30 - Pump Stage 2 Impeller Speed\n",
    "# SENSOR_31 - Pump Stage 2 Impeller Speed\n",
    "# SENSOR_32 - Pump Stage 2 Impeller Speed\n",
    "# SENSOR_33 - Pump Stage 2 Impeller Speed"
   ]
  },
  {
   "cell_type": "code",
   "execution_count": null,
   "metadata": {},
   "outputs": [],
   "source": [
    "Df_pumpFlow.rename({'sensor_34': 'Pump Inlet Flow', 'sensor_35':'Pump Discharge Flow', 'sensor_36':'Pump UNKNOWN'},axis=1,inplace=True)\n",
    "Df_pumpFlow\n",
    "\n",
    "# SENSOR_34 - Pump Inlet Flow\n",
    "# SENSOR_35 - Pump Discharge Flow\n",
    "# SENSOR_36 - Pump UNKNOWN"
   ]
  },
  {
   "cell_type": "code",
   "execution_count": null,
   "metadata": {},
   "outputs": [],
   "source": [
    "Df_bearingTemp.rename({'sensor_40': 'Pump Thrust Bearing Active Temp', 'sensor_41':'Motor Non Drive End Radial Bearing Temp 1', 'sensor_42':'Motor Non Drive End Radial Bearing Temp 2',\n",
    "'sensor_43':'Pump Thrust Bearing Inactive Temp','sensor_44':'Pump Drive End Radial Bearing Temp 1','sensor_45':'Pump non Drive End Radial Bearing Temp 1',\n",
    "'sensor_46':'Pump non Drive End Radial Bearing Temp 2','sensor_47':'Pump Drive End Radial Bearing Temp 2'},axis=1,inplace=True)\n",
    "\n",
    "Df_bearingTemp\n",
    "\n",
    "# SENSOR_40 - Pump Thrust Bearing Active Temp\n",
    "# SENSOR_41 - Motor Non Drive End Radial Bearing Temp 1\n",
    "# SENSOR_42 - Motor Non Drive End Radial Bearing Temp 2\n",
    "# SENSOR_43 - Pump Thrust Bearing Inactive Temp\n",
    "# SENSOR_44 - Pump Drive End Radial Bearing Temp 1\n",
    "# SENSOR_45 - Pump non Drive End Radial Bearing Temp 1\n",
    "# SENSOR_46 - Pump Non Drive End Radial Bearing Temp 2\n",
    "# SENSOR_47 - Pump Drive End Radial Bearing Temp 2"
   ]
  },
  {
   "cell_type": "code",
   "execution_count": null,
   "metadata": {},
   "outputs": [],
   "source": [
    "Df_pumpPressure.rename({'sensor_48': 'Pump Inlet Pressure', 'sensor_49':'Pump Temp Unknown', 'sensor_50':'Pump Discharge Pressure 1', 'sensor_51':'Pump Discharge Pressure 2'},axis=1,inplace=True)\n",
    "\n",
    "Df_pumpPressure\n",
    "\n",
    "# SENSOR_48 - Pump Inlet Pressure\n",
    "# SENSOR_49 - Pump Temp Unknown\n",
    "# SENSOR_50 - Pump Discharge Pressure 1\n",
    "# SENSOR_51 - Pump Discharge Pressure 2"
   ]
  },
  {
   "cell_type": "code",
   "execution_count": null,
   "metadata": {},
   "outputs": [],
   "source": [
    "# SENSOR_00 - Motor Casing Vibration\n",
    "# SENSOR_13 - Motor Coupling Vibration\n",
    "# SENSOR_18 - Pump Casing Vibration\n",
    "\n",
    "# SENSOR_01 - Motor Frequency A\n",
    "# SENSOR_02 - Motor Frequency B\n",
    "# SENSOR_03 - Motor Frequency C\n",
    "# SENSOR_04 - Motor Speed\n",
    "# SENSOR_05 - Motor Current\n",
    "# SENSOR_06 - Motor Active Power\n",
    "# SENSOR_07 - Motor Apparent Power\n",
    "# SENSOR_08 - Motor Reactive Power\n",
    "# SENSOR_09 - Motor Shaft Power  \n",
    "# SENSOR_10 - Motor Phase Current A\n",
    "# SENSOR_11 - Motor Phase Current B\n",
    "# SENSOR_12 - Motor Phase Current C\n",
    "# SENSOR_14 - Motor Phase Voltage AB\n",
    "# SENSOR_16 - Motor Phase Voltage BC\n",
    "# SENSOR_17 - Motor Phase Voltage CA\n",
    "\n",
    "\n",
    "\n",
    "# SENSOR_19 - Pump Stage 1 Impeller Speed\n",
    "# SENSOR_20 - Pump Stage 1 Impeller Speed\n",
    "# SENSOR_21 - Pump Stage 1 Impeller Speed\n",
    "# SENSOR_22 - Pump Stage 1 Impeller Speed\n",
    "# SENSOR_23 - Pump Stage 1 Impeller Speed\n",
    "# SENSOR_24 - Pump Stage 1 Impeller Speed\n",
    "# SENSOR_25 - Pump Stage 2 Impeller Speed\n",
    "# SENSOR_26 - Pump Stage 2 Impeller Speed\n",
    "# SENSOR_27 - Pump Stage 2 Impeller Speed\n",
    "# SENSOR_28 - Pump Stage 2 Impeller Speed\n",
    "# SENSOR_29 - Pump Stage 2 Impeller Speed\n",
    "# SENSOR_30 - Pump Stage 2 Impeller Speed\n",
    "# SENSOR_31 - Pump Stage 2 Impeller Speed\n",
    "# SENSOR_32 - Pump Stage 2 Impeller Speed\n",
    "# SENSOR_33 - Pump Stage 2 Impeller Speed\n",
    "\n",
    "# SENSOR_34 - Pump Inlet Flow\n",
    "# SENSOR_35 - Pump Discharge Flow\n",
    "# SENSOR_36 - Pump UNKNOWN\n",
    "\n",
    "# SENSOR_37 - Pump Lube Oil Overhead Reservoir Level\n",
    "# SENSOR_38 - Pump Lube Oil Return Temp\n",
    "# SENSOR_39 - Pump Lube Oil Supply Temp\n",
    "\n",
    "# SENSOR_40 - Pump Thrust Bearing Active Temp\n",
    "# SENSOR_41 - Motor Non Drive End Radial Bearing Temp 1\n",
    "# SENSOR_42 - Motor Non Drive End Radial Bearing Temp 2\n",
    "# SENSOR_43 - Pump Thrust Bearing Inactive Temp\n",
    "# SENSOR_44 - Pump Drive End Radial Bearing Temp 1\n",
    "# SENSOR_45 - Pump non Drive End Radial Bearing Temp 1\n",
    "# SENSOR_46 - Pump Non Drive End Radial Bearing Temp 2\n",
    "# SENSOR_47 - Pump Drive End Radial Bearing Temp 2\n",
    "\n",
    "# SENSOR_48 - Pump Inlet Pressure\n",
    "# SENSOR_49 - Pump Temp Unknown\n",
    "# SENSOR_50 - Pump Discharge Pressure 1\n",
    "# SENSOR_51 - Pump Discharge Pressure 2\n",
    "# Pump Status"
   ]
  },
  {
   "cell_type": "markdown",
   "metadata": {},
   "source": [
    "## Correlação"
   ]
  },
  {
   "cell_type": "code",
   "execution_count": null,
   "metadata": {},
   "outputs": [],
   "source": [
    "# rs = np.random.RandomState(0)\n",
    "# df = pd.DataFrame(rs.rand(10, 10))\n",
    "corr = Df_v3.corr()\n",
    "corr.style.background_gradient(cmap='coolwarm').set_precision(2)\n",
    "# 'RdBu_r', 'BrBG_r', & PuOr_r are other good diverging colormaps"
   ]
  },
  {
   "cell_type": "code",
   "execution_count": null,
   "metadata": {},
   "outputs": [],
   "source": [
    "fig, axs = plt.subplots(2,figsize=(30,15))\n",
    "# corr2=Df_motorProprieties.corr()\n",
    "# corr2.style.background_gradient(cmap='coolwarm').set_precision(2)\n",
    "# sns.heatmap(corr2, mask=np.zeros_like(corr, dtype=np.bool), cmap=sns.diverging_palette(220, 10, as_cmap=True),\n",
    "#             square=True, ax=ax)\n",
    "x=range(0,220320,1)\n",
    "axs[0].plot(x, Df_pumpFlow[Df_pumpFlow.columns[1]])\n",
    "axs[1].plot(x, Df_bearingTemp[Df_bearingTemp.columns[1]])"
   ]
  }
 ],
 "metadata": {
  "kernelspec": {
   "display_name": "Python 3.9.0 64-bit",
   "language": "python",
   "name": "python3"
  },
  "language_info": {
   "codemirror_mode": {
    "name": "ipython",
    "version": 3
   },
   "file_extension": ".py",
   "mimetype": "text/x-python",
   "name": "python",
   "nbconvert_exporter": "python",
   "pygments_lexer": "ipython3",
   "version": "3.9.0"
  },
  "orig_nbformat": 4,
  "vscode": {
   "interpreter": {
    "hash": "374aeb0ec5b4e2eb0883532f4bc729b84c23b17c2796968bdc69d5879eefb4be"
   }
  }
 },
 "nbformat": 4,
 "nbformat_minor": 2
}
